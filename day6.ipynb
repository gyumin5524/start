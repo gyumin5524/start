{
  "nbformat": 4,
  "nbformat_minor": 0,
  "metadata": {
    "colab": {
      "provenance": [],
      "authorship_tag": "ABX9TyPnqCe5Cuwhc9vaIV/TyS62",
      "include_colab_link": true
    },
    "kernelspec": {
      "name": "python3",
      "display_name": "Python 3"
    },
    "language_info": {
      "name": "python"
    }
  },
  "cells": [
    {
      "cell_type": "markdown",
      "metadata": {
        "id": "view-in-github",
        "colab_type": "text"
      },
      "source": [
        "<a href=\"https://colab.research.google.com/github/gyumin5524/start/blob/main/day6.ipynb\" target=\"_parent\"><img src=\"https://colab.research.google.com/assets/colab-badge.svg\" alt=\"Open In Colab\"/></a>"
      ]
    },
    {
      "cell_type": "code",
      "source": [
        "#1. example.csv 파일을 열고 각 행을 순회하면서 값을 print 하시오(with 구문 사용).\n",
        "import csv"
      ],
      "metadata": {
        "id": "kpJKkNwih4Dw"
      },
      "execution_count": 20,
      "outputs": []
    },
    {
      "cell_type": "code",
      "source": [
        "with open('example.csv', 'r') as file:\n",
        "    csv_reader = csv.reader(file)\n",
        "    for row in csv_reader:\n",
        "        print(row)"
      ],
      "metadata": {
        "colab": {
          "base_uri": "https://localhost:8080/"
        },
        "id": "egqmGX9Ch5Ga",
        "outputId": "d6e8b26d-9658-44e5-d3d6-6835a9b7d3fe"
      },
      "execution_count": 19,
      "outputs": [
        {
          "output_type": "stream",
          "name": "stdout",
          "text": [
            "['title', ' name', ' year']\n",
            "['title1', ' name1', ' 2023']\n",
            "['title2', ' name2', ' 2024']\n",
            "['title3', ' name3', ' 2025']\n"
          ]
        }
      ]
    },
    {
      "cell_type": "code",
      "source": [
        "#2. contact라는 값을 output.json 파일로 출력하세요(with 구문 사용).\n",
        "import json"
      ],
      "metadata": {
        "id": "CLTYeJY_ZTxp"
      },
      "execution_count": 21,
      "outputs": []
    },
    {
      "cell_type": "code",
      "source": [
        "contact = {'name': 'Stan', 'phone': '010-0000-0000'}"
      ],
      "metadata": {
        "id": "ErLn4djdZfJ_"
      },
      "execution_count": 12,
      "outputs": []
    },
    {
      "cell_type": "code",
      "source": [
        "with open('output.json', 'w', encoding='utf-8') as file:\n",
        "    json.dump(contact, file, ensure_ascii=False, indent=4)"
      ],
      "metadata": {
        "id": "9zfJixn8ZhqV"
      },
      "execution_count": 13,
      "outputs": []
    },
    {
      "cell_type": "code",
      "source": [
        "print(contact)"
      ],
      "metadata": {
        "colab": {
          "base_uri": "https://localhost:8080/"
        },
        "id": "2HRBKyOvZvKH",
        "outputId": "e6aba4ef-7526-4af5-e321-599e9843e308"
      },
      "execution_count": 14,
      "outputs": [
        {
          "output_type": "stream",
          "name": "stdout",
          "text": [
            "{'name': 'Stan', 'phone': '010-0000-0000'}\n"
          ]
        }
      ]
    },
    {
      "cell_type": "code",
      "source": [
        "#3. file.txt 파일을 열고 값을 print 하시오.\n",
        "with open('file.txt', 'r') as file:\n",
        "    content = file.read()\n",
        "    print(content)"
      ],
      "metadata": {
        "colab": {
          "base_uri": "https://localhost:8080/"
        },
        "id": "KIsN9hVmb8H7",
        "outputId": "209a62ae-033d-4705-a0e9-f2c34749dd13"
      },
      "execution_count": 17,
      "outputs": [
        {
          "output_type": "stream",
          "name": "stdout",
          "text": [
            "스파르타 AI 트랙\n",
            "9기 스타터반\n",
            "화이팅!\n"
          ]
        }
      ]
    },
    {
      "cell_type": "code",
      "source": [
        "#4. data.json 파일을 열고 값을 print하시오(데이터 로드 부분시 에러 발생할 경우 처리하기, 예외 구문 2개 이상).\n",
        "import json"
      ],
      "metadata": {
        "id": "7qhcI5KIcnBv"
      },
      "execution_count": 29,
      "outputs": []
    },
    {
      "cell_type": "code",
      "source": [
        "try:\n",
        "    # JSON 파일 열기\n",
        "    with open('data.json', 'r', encoding='utf-8') as file:\n",
        "        data = json.load(file)  # JSON 데이터 로드\n",
        "        print(data)\n",
        "\n",
        "# 예외 1: 파일이 존재하지 않을 경우\n",
        "except FileNotFoundError:\n",
        "    print(\"Error: 'data.json' 파일이 존재하지 않습니다.\")\n",
        "\n",
        "# 예외 2: JSON 형식이 잘못된 경우\n",
        "except json.JSONDecodeError:\n",
        "    print(\"Error: 'data.json' 파일의 내용이 올바른 JSON 형식이 아닙니다.\")\n",
        "\n",
        "# 예외 3: 기타 모든 예외 처리\n",
        "except Exception as e:\n",
        "    print(f\"알 수 없는 오류가 발생했습니다: {e}\")\n",
        "\n",
        "# 정상적으로 파일을 읽었을 경우\n",
        "else:\n",
        "    print(\"파일을 성공적으로 읽었습니다.\")\n",
        "\n",
        "# 마지막으로 무조건 실행되는 코드\n",
        "finally:\n",
        "    print(\"JSON 파일 읽기 작업이 종료되었습니다.\")"
      ],
      "metadata": {
        "colab": {
          "base_uri": "https://localhost:8080/"
        },
        "id": "GwNpZ-rydo_k",
        "outputId": "445b785e-9f07-46a2-faae-a72fc9e9df99"
      },
      "execution_count": 30,
      "outputs": [
        {
          "output_type": "stream",
          "name": "stdout",
          "text": [
            "{'users': [{'userId': 1, 'phoneNumber': '11111111', 'emailAddress': 'AAAAA@test.com', 'homepage': 'https://example.com/1'}, {'userId': 2, 'phoneNumber': '22222222', 'homepage': 'https://example.com/2'}, {'userId': 3, 'phoneNumber': '33333333'}, {'userId': 4, 'phoneNumber': '44444444', 'homepage': 'https://example.com/4'}, {'userId': 5, 'phoneNumber': '55555555', 'homepage': 'https://example.com/5'}]}\n",
            "파일을 성공적으로 읽었습니다.\n",
            "JSON 파일 읽기 작업이 종료되었습니다.\n"
          ]
        }
      ]
    }
  ]
}